{
 "cells": [
  {
   "cell_type": "code",
   "execution_count": 3,
   "metadata": {},
   "outputs": [
    {
     "name": "stdout",
     "output_type": "stream",
     "text": [
      "Requirement already satisfied: pip in c:\\users\\acl6202e\\anaconda3\\lib\\site-packages (20.0.2)\n",
      "Note: you may need to restart the kernel to use updated packages.\n"
     ]
    }
   ],
   "source": [
    "pip install pip"
   ]
  },
  {
   "cell_type": "code",
   "execution_count": 4,
   "metadata": {},
   "outputs": [
    {
     "name": "stdout",
     "output_type": "stream",
     "text": [
      "Requirement already satisfied: keras in c:\\users\\acl6202e\\anaconda3\\lib\\site-packages (2.3.1)\n",
      "Requirement already satisfied: h5py in c:\\users\\acl6202e\\anaconda3\\lib\\site-packages (from keras) (2.10.0)\n",
      "Requirement already satisfied: keras-applications>=1.0.6 in c:\\users\\acl6202e\\anaconda3\\lib\\site-packages (from keras) (1.0.8)\n",
      "Requirement already satisfied: keras-preprocessing>=1.0.5 in c:\\users\\acl6202e\\anaconda3\\lib\\site-packages (from keras) (1.1.0)\n",
      "Requirement already satisfied: pyyaml in c:\\users\\acl6202e\\anaconda3\\lib\\site-packages (from keras) (5.3)\n",
      "Requirement already satisfied: scipy>=0.14 in c:\\users\\acl6202e\\anaconda3\\lib\\site-packages (from keras) (1.4.1)\n",
      "Requirement already satisfied: six>=1.9.0 in c:\\users\\acl6202e\\anaconda3\\lib\\site-packages (from keras) (1.14.0)\n",
      "Requirement already satisfied: numpy>=1.9.1 in c:\\users\\acl6202e\\anaconda3\\lib\\site-packages (from keras) (1.18.1)\n",
      "Note: you may need to restart the kernel to use updated packages.\n"
     ]
    }
   ],
   "source": [
    "pip install keras"
   ]
  },
  {
   "cell_type": "code",
   "execution_count": 1,
   "metadata": {},
   "outputs": [
    {
     "name": "stdout",
     "output_type": "stream",
     "text": [
      "Collecting tensorflow==2\n",
      "  Downloading tensorflow-2.0.0-cp37-cp37m-win_amd64.whl (48.1 MB)\n",
      "Collecting tensorflow-estimator<2.1.0,>=2.0.0\n",
      "  Downloading tensorflow_estimator-2.0.1-py2.py3-none-any.whl (449 kB)\n",
      "Requirement already satisfied: astor>=0.6.0 in c:\\users\\acl6202e\\anaconda3\\anaconda32\\lib\\site-packages (from tensorflow==2) (0.8.1)\n",
      "Requirement already satisfied: gast==0.2.2 in c:\\users\\acl6202e\\anaconda3\\anaconda32\\lib\\site-packages (from tensorflow==2) (0.2.2)\n",
      "Requirement already satisfied: keras-preprocessing>=1.0.5 in c:\\users\\acl6202e\\anaconda3\\anaconda32\\lib\\site-packages (from tensorflow==2) (1.1.0)\n",
      "Collecting tensorboard<2.1.0,>=2.0.0\n",
      "  Downloading tensorboard-2.0.2-py3-none-any.whl (3.8 MB)\n",
      "Requirement already satisfied: wrapt>=1.11.1 in c:\\users\\acl6202e\\anaconda3\\anaconda32\\lib\\site-packages (from tensorflow==2) (1.11.2)\n",
      "Requirement already satisfied: grpcio>=1.8.6 in c:\\users\\acl6202e\\anaconda3\\anaconda32\\lib\\site-packages (from tensorflow==2) (1.28.1)\n",
      "Requirement already satisfied: termcolor>=1.1.0 in c:\\users\\acl6202e\\anaconda3\\anaconda32\\lib\\site-packages (from tensorflow==2) (1.1.0)\n",
      "Requirement already satisfied: wheel>=0.26 in c:\\users\\acl6202e\\anaconda3\\anaconda32\\lib\\site-packages (from tensorflow==2) (0.34.2)\n",
      "Requirement already satisfied: numpy<2.0,>=1.16.0 in c:\\users\\acl6202e\\anaconda3\\anaconda32\\lib\\site-packages (from tensorflow==2) (1.18.1)\n",
      "Requirement already satisfied: six>=1.10.0 in c:\\users\\acl6202e\\anaconda3\\anaconda32\\lib\\site-packages (from tensorflow==2) (1.14.0)\n",
      "Requirement already satisfied: absl-py>=0.7.0 in c:\\users\\acl6202e\\anaconda3\\anaconda32\\lib\\site-packages (from tensorflow==2) (0.9.0)\n",
      "Requirement already satisfied: opt-einsum>=2.3.2 in c:\\users\\acl6202e\\anaconda3\\anaconda32\\lib\\site-packages (from tensorflow==2) (3.2.1)\n",
      "Requirement already satisfied: protobuf>=3.6.1 in c:\\users\\acl6202e\\anaconda3\\anaconda32\\lib\\site-packages (from tensorflow==2) (3.11.3)\n",
      "Requirement already satisfied: keras-applications>=1.0.8 in c:\\users\\acl6202e\\anaconda3\\anaconda32\\lib\\site-packages (from tensorflow==2) (1.0.8)\n",
      "Requirement already satisfied: google-pasta>=0.1.6 in c:\\users\\acl6202e\\anaconda3\\anaconda32\\lib\\site-packages (from tensorflow==2) (0.2.0)\n",
      "Requirement already satisfied: setuptools>=41.0.0 in c:\\users\\acl6202e\\anaconda3\\anaconda32\\lib\\site-packages (from tensorboard<2.1.0,>=2.0.0->tensorflow==2) (45.2.0.post20200210)\n",
      "Requirement already satisfied: requests<3,>=2.21.0 in c:\\users\\acl6202e\\anaconda3\\anaconda32\\lib\\site-packages (from tensorboard<2.1.0,>=2.0.0->tensorflow==2) (2.22.0)\n",
      "Requirement already satisfied: werkzeug>=0.11.15 in c:\\users\\acl6202e\\anaconda3\\anaconda32\\lib\\site-packages (from tensorboard<2.1.0,>=2.0.0->tensorflow==2) (1.0.0)\n",
      "Requirement already satisfied: google-auth-oauthlib<0.5,>=0.4.1 in c:\\users\\acl6202e\\anaconda3\\anaconda32\\lib\\site-packages (from tensorboard<2.1.0,>=2.0.0->tensorflow==2) (0.4.1)\n",
      "Requirement already satisfied: markdown>=2.6.8 in c:\\users\\acl6202e\\anaconda3\\anaconda32\\lib\\site-packages (from tensorboard<2.1.0,>=2.0.0->tensorflow==2) (3.2.1)\n",
      "Requirement already satisfied: google-auth<2,>=1.6.3 in c:\\users\\acl6202e\\anaconda3\\anaconda32\\lib\\site-packages (from tensorboard<2.1.0,>=2.0.0->tensorflow==2) (1.14.1)\n",
      "Requirement already satisfied: h5py in c:\\users\\acl6202e\\anaconda3\\anaconda32\\lib\\site-packages (from keras-applications>=1.0.8->tensorflow==2) (2.10.0)\n",
      "Requirement already satisfied: chardet<3.1.0,>=3.0.2 in c:\\users\\acl6202e\\anaconda3\\anaconda32\\lib\\site-packages (from requests<3,>=2.21.0->tensorboard<2.1.0,>=2.0.0->tensorflow==2) (3.0.4)\n",
      "Requirement already satisfied: urllib3!=1.25.0,!=1.25.1,<1.26,>=1.21.1 in c:\\users\\acl6202e\\anaconda3\\anaconda32\\lib\\site-packages (from requests<3,>=2.21.0->tensorboard<2.1.0,>=2.0.0->tensorflow==2) (1.25.8)\n",
      "Requirement already satisfied: certifi>=2017.4.17 in c:\\users\\acl6202e\\anaconda3\\anaconda32\\lib\\site-packages (from requests<3,>=2.21.0->tensorboard<2.1.0,>=2.0.0->tensorflow==2) (2019.11.28)\n",
      "Requirement already satisfied: idna<2.9,>=2.5 in c:\\users\\acl6202e\\anaconda3\\anaconda32\\lib\\site-packages (from requests<3,>=2.21.0->tensorboard<2.1.0,>=2.0.0->tensorflow==2) (2.8)\n",
      "Requirement already satisfied: requests-oauthlib>=0.7.0 in c:\\users\\acl6202e\\anaconda3\\anaconda32\\lib\\site-packages (from google-auth-oauthlib<0.5,>=0.4.1->tensorboard<2.1.0,>=2.0.0->tensorflow==2) (1.3.0)\n",
      "Requirement already satisfied: pyasn1-modules>=0.2.1 in c:\\users\\acl6202e\\anaconda3\\anaconda32\\lib\\site-packages (from google-auth<2,>=1.6.3->tensorboard<2.1.0,>=2.0.0->tensorflow==2) (0.2.8)\n",
      "Requirement already satisfied: cachetools<5.0,>=2.0.0 in c:\\users\\acl6202e\\anaconda3\\anaconda32\\lib\\site-packages (from google-auth<2,>=1.6.3->tensorboard<2.1.0,>=2.0.0->tensorflow==2) (4.1.0)\n",
      "Requirement already satisfied: rsa<4.1,>=3.1.4 in c:\\users\\acl6202e\\anaconda3\\anaconda32\\lib\\site-packages (from google-auth<2,>=1.6.3->tensorboard<2.1.0,>=2.0.0->tensorflow==2) (4.0)\n",
      "Requirement already satisfied: oauthlib>=3.0.0 in c:\\users\\acl6202e\\anaconda3\\anaconda32\\lib\\site-packages (from requests-oauthlib>=0.7.0->google-auth-oauthlib<0.5,>=0.4.1->tensorboard<2.1.0,>=2.0.0->tensorflow==2) (3.1.0)\n",
      "Requirement already satisfied: pyasn1<0.5.0,>=0.4.6 in c:\\users\\acl6202e\\anaconda3\\anaconda32\\lib\\site-packages (from pyasn1-modules>=0.2.1->google-auth<2,>=1.6.3->tensorboard<2.1.0,>=2.0.0->tensorflow==2) (0.4.8)\n",
      "Installing collected packages: tensorflow-estimator, tensorboard, tensorflow\n",
      "  Attempting uninstall: tensorflow-estimator\n",
      "    Found existing installation: tensorflow-estimator 2.1.0\n",
      "    Uninstalling tensorflow-estimator-2.1.0:\n",
      "      Successfully uninstalled tensorflow-estimator-2.1.0\n",
      "  Attempting uninstall: tensorboard\n",
      "    Found existing installation: tensorboard 2.1.1\n",
      "    Uninstalling tensorboard-2.1.1:\n",
      "      Successfully uninstalled tensorboard-2.1.1\n",
      "  Attempting uninstall: tensorflow\n",
      "    Found existing installation: tensorflow 2.1.0\n",
      "    Uninstalling tensorflow-2.1.0:\n",
      "      Successfully uninstalled tensorflow-2.1.0\n",
      "Successfully installed tensorboard-2.0.2 tensorflow-2.0.0 tensorflow-estimator-2.0.1\n",
      "Note: you may need to restart the kernel to use updated packages.\n"
     ]
    }
   ],
   "source": [
    "pip install tensorflow==2"
   ]
  },
  {
   "cell_type": "code",
   "execution_count": null,
   "metadata": {},
   "outputs": [],
   "source": []
  }
 ],
 "metadata": {
  "kernelspec": {
   "display_name": "Python 3",
   "language": "python",
   "name": "python3"
  },
  "language_info": {
   "codemirror_mode": {
    "name": "ipython",
    "version": 3
   },
   "file_extension": ".py",
   "mimetype": "text/x-python",
   "name": "python",
   "nbconvert_exporter": "python",
   "pygments_lexer": "ipython3",
   "version": "3.7.6"
  }
 },
 "nbformat": 4,
 "nbformat_minor": 4
}
